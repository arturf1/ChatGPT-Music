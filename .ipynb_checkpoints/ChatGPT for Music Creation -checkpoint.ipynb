{
 "cells": [
  {
   "cell_type": "code",
   "execution_count": null,
   "metadata": {
    "scrolled": true
   },
   "outputs": [],
   "source": [
    "import openai\n",
    "from music21 import *\n",
    "openai.api_key = \"xxx\""
   ]
  },
  {
   "cell_type": "markdown",
   "metadata": {},
   "source": [
    "### Test with tinynotation "
   ]
  },
  {
   "cell_type": "code",
   "execution_count": null,
   "metadata": {
    "scrolled": true
   },
   "outputs": [],
   "source": [
    "prompt=\"\"\"You are a composer. Write 30 measures of a song by mixing parts of the following example tinynotation:\"\"\""
   ]
  },
  {
   "cell_type": "code",
   "execution_count": null,
   "metadata": {
    "scrolled": true
   },
   "outputs": [],
   "source": [
    "example= \"\"\"b4 b4 c'4 d'4 d'4 c'4 b4 a4 g4 g4 a4 b4 b4. a8 a2. d''16 e''16 c''16 a'16 a'16 b'16 g'8 d'16 e'16 c'16 a16 a16 b16 g8 d16 e16 c16 A16 A16 B16 A16 A-16 G8 d'4. c'8 b4 a4 g4 a4 b4 g4 a8 b8 c'8 a8 b4. a8 g4 f#4 g2\"\"\""
   ]
  },
  {
   "cell_type": "code",
   "execution_count": null,
   "metadata": {
    "scrolled": true
   },
   "outputs": [],
   "source": [
    "response = openai.Completion.create(\n",
    "  model=\"text-davinci-003\",\n",
    "  prompt=prompt + example,\n",
    "  temperature=1,\n",
    "  max_tokens=3000,\n",
    "  top_p=1.0,\n",
    "  frequency_penalty=0.0,\n",
    "  presence_penalty=0.0\n",
    ")"
   ]
  },
  {
   "cell_type": "code",
   "execution_count": null,
   "metadata": {
    "scrolled": true
   },
   "outputs": [],
   "source": [
    "s = converter.pas = converter.parse(response.choices[0].text)\n",
    "s.write('mxl', fp='C:\\\\Users\\\\Artur\\\\Desktop\\\\myscore') # open file with musescore or similar software"
   ]
  },
  {
   "cell_type": "markdown",
   "metadata": {},
   "source": [
    "### Test abc notation \n",
    "See https://abcnotation.com/ for more examples of music "
   ]
  },
  {
   "cell_type": "code",
   "execution_count": null,
   "metadata": {
    "scrolled": true
   },
   "outputs": [],
   "source": [
    "prompt=\"\"\"\n",
    "Write music in abc notation. Write one song. Use verity of notes and rhythms. The music should be fast and lively. The music should be a variation of the following song:\n",
    " \n",
    "X:343\n",
    "T:The Entertainer\n",
    "C:Scott Joplin, 1902, arranged Colin Hume\n",
    "L:1/8\n",
    "M:2/2\n",
    "R:Rag\n",
    "Q:1/2=76\n",
    "K:C\n",
    "P:Intro\n",
    "[| d'e'c'a-abg2 | decA-ABG2 | DECA,-A,B,A,_A, | G,2 z2 [G,B,DG]2 ||\n",
    "P:Tune 1\n",
    "|: D^D | \"C\"Ec-cE \"C7\"c2Ec- | \"F\"c4- \"C/E\"ccd^d | \"C\"ecde- \"G7\"eBd2 | \"C\"c6 D^D |\n",
    "\"C\"Ec-cE \"C7\"c2Ec- | \"F\"c4- \"C/E\"c2AG | \"D7\"^FAce- \"/\"edcA | \"G\"d6 \"G7\"D^D |\n",
    "\"C\"Ec-cE \"C7\"c2Ec- | \"F\"c4- \"C/E\"ccd^d | \"C\"ecde- \"G7\"eBd2 | \"C\"c6 cd |\n",
    "\"C\"ecde- \"C7\"ecdc | \"F\"ecde- \"Fm\"ecdc | \"C/G\"ecde- \"G7\"eBd2 | \"C\"c6 :|\n",
    "P:Tune 2\n",
    "|: EF^F | \"C\"G2AG- \"/\"GEF^F | \"C\"G2AG- \"C7\"GECG, | \"F\"A,B,CD \"Fm\"EDCD | \"C\"G,4- \"/\"G,EF^F |\n",
    "\"C\"G2AG- \"/\"GEF^F | \"C\"G2AG- \"/\"GGA^A | \"D7\"BB-BB- \"/\"BA^FD | \"G\"G4-Gef^f |\n",
    "\"C\"g2ag- \"/\"gef^f | \"C\"g2ag- \"C7\"gecG | \"F\"ABcd \"Fm\"edcd | \"C\"c4- \"C7\"cG^FG |\n",
    "\"F\"c2Ac- \"Cdim/F#\"cAcA | \"C/G\"Gceg- \"Am\"gecG | \"D7\"A2 c2 \"G7\"ed-dc- | \"C\"c4 \"/\"z :|\n",
    "\"\"\""
   ]
  },
  {
   "cell_type": "code",
   "execution_count": null,
   "metadata": {
    "scrolled": true
   },
   "outputs": [],
   "source": [
    "response = openai.Completion.create(\n",
    "  model=\"text-davinci-003\",\n",
    "  prompt=prompt,\n",
    "  temperature=1,\n",
    "  max_tokens=3000,\n",
    "  top_p=1.0,\n",
    "  frequency_penalty=0.0,\n",
    "  presence_penalty=0.0\n",
    ")"
   ]
  },
  {
   "cell_type": "code",
   "execution_count": null,
   "metadata": {
    "scrolled": true
   },
   "outputs": [],
   "source": [
    "score = converter.parse(response.choices[0].text)\n",
    "score.write('mxl', fp='C:\\\\Users\\\\Artur\\\\Desktop\\\\myscore') # open file with musescore or similar software"
   ]
  }
 ],
 "metadata": {
  "kernelspec": {
   "display_name": "Python 3",
   "language": "python",
   "name": "python3"
  },
  "language_info": {
   "codemirror_mode": {
    "name": "ipython",
    "version": 3
   },
   "file_extension": ".py",
   "mimetype": "text/x-python",
   "name": "python",
   "nbconvert_exporter": "python",
   "pygments_lexer": "ipython3",
   "version": "3.8.5"
  }
 },
 "nbformat": 4,
 "nbformat_minor": 4
}
